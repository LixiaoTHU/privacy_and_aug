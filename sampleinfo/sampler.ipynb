{
 "cells": [
  {
   "cell_type": "code",
   "execution_count": 1,
   "metadata": {},
   "outputs": [
    {
     "data": {
      "text/plain": [
       "<torch._C.Generator at 0x7fc2940493b0>"
      ]
     },
     "execution_count": 1,
     "metadata": {},
     "output_type": "execute_result"
    }
   ],
   "source": [
    "import random\n",
    "import numpy as np\n",
    "import torch\n",
    "import json\n",
    "\n",
    "seed = 2333\n",
    "np.random.seed(seed)\n",
    "torch.manual_seed(seed)"
   ]
  },
  {
   "cell_type": "code",
   "execution_count": 2,
   "metadata": {},
   "outputs": [],
   "source": [
    "maxnum = 60000\n",
    "# maxnum = 5010\n",
    "shadowmodel = 128\n",
    "shadowdict = dict()\n",
    "for i in range(shadowmodel):\n",
    "    shadowdict[i] = []\n",
    "index = [i for i in range(shadowmodel)]\n",
    "for i in range(maxnum):\n",
    "    random.shuffle(index)\n",
    "    cnt = 0\n",
    "    for j in range(len(index) // 2):\n",
    "        shadowdict[index[j]].append(i)"
   ]
  },
  {
   "cell_type": "code",
   "execution_count": 3,
   "metadata": {},
   "outputs": [],
   "source": [
    "# f = open(\"samplelist_locations.txt\", \"w\")\n",
    "# f.write(str(shadowdict))\n",
    "# f.close()"
   ]
  },
  {
   "cell_type": "code",
   "execution_count": 4,
   "metadata": {},
   "outputs": [],
   "source": [
    "targetmodel = [i for i in range(maxnum)]\n",
    "random.shuffle(targetmodel)\n",
    "targetmodel = targetmodel[:maxnum//2]"
   ]
  },
  {
   "cell_type": "code",
   "execution_count": 5,
   "metadata": {},
   "outputs": [],
   "source": [
    "# f = open(\"target_locations.txt\", \"w\")\n",
    "# f.write(str(targetmodel))\n",
    "# f.close()"
   ]
  }
 ],
 "metadata": {
  "kernelspec": {
   "display_name": "Python 3",
   "language": "python",
   "name": "python3"
  },
  "language_info": {
   "codemirror_mode": {
    "name": "ipython",
    "version": 3
   },
   "file_extension": ".py",
   "mimetype": "text/x-python",
   "name": "python",
   "nbconvert_exporter": "python",
   "pygments_lexer": "ipython3",
   "version": "3.8.8"
  }
 },
 "nbformat": 4,
 "nbformat_minor": 4
}
